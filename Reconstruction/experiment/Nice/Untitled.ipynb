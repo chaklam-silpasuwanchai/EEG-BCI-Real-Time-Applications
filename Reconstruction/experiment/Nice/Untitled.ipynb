{
 "cells": [
  {
   "cell_type": "code",
   "execution_count": 2,
   "id": "339a5212-4f17-4a63-b53d-a5b9b287cf23",
   "metadata": {},
   "outputs": [
    {
     "name": "stdout",
     "output_type": "stream",
     "text": [
      "Mean: 53.5\n",
      "Standard Deviation: 29.694275542602483\n"
     ]
    }
   ],
   "source": [
    "import numpy as np\n",
    "dataset=[13, 22, 26, 38, 36, 42,49, 50, 77, 81, 98, 110]\n",
    "print('Mean:', np.mean(dataset))\n",
    "print('Standard Deviation:', np.std(dataset))\n"
   ]
  },
  {
   "cell_type": "code",
   "execution_count": null,
   "id": "f9a1cd78-3594-46eb-a3d8-32b3f8ce5a5e",
   "metadata": {},
   "outputs": [],
   "source": []
  }
 ],
 "metadata": {
  "kernelspec": {
   "display_name": "jakrapop_env39",
   "language": "python",
   "name": "jakrapop_env39"
  },
  "language_info": {
   "codemirror_mode": {
    "name": "ipython",
    "version": 3
   },
   "file_extension": ".py",
   "mimetype": "text/x-python",
   "name": "python",
   "nbconvert_exporter": "python",
   "pygments_lexer": "ipython3",
   "version": "3.9.4"
  }
 },
 "nbformat": 4,
 "nbformat_minor": 5
}
